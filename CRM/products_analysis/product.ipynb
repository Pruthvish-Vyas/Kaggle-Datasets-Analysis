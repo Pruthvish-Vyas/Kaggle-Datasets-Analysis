{
 "cells": [
  {
   "cell_type": "markdown",
   "metadata": {},
   "source": [
    "---\n",
    "# EXPLORATORY DATA ANALYSIS OF PRODUCT\n",
    "---"
   ]
  },
  {
   "cell_type": "code",
   "execution_count": 3,
   "metadata": {},
   "outputs": [],
   "source": [
    "import numpy as np\n",
    "import matplotlib.pyplot as pl\n",
    "import seaborn as sns\n",
    "import pandas as pd\n",
    "import warnings"
   ]
  },
  {
   "cell_type": "code",
   "execution_count": 2,
   "metadata": {},
   "outputs": [
    {
     "name": "stdout",
     "output_type": "stream",
     "text": [
      "<class 'pandas.core.frame.DataFrame'>\n",
      "RangeIndex: 7 entries, 0 to 6\n",
      "Data columns (total 3 columns):\n",
      " #   Column       Non-Null Count  Dtype \n",
      "---  ------       --------------  ----- \n",
      " 0   product      7 non-null      object\n",
      " 1   series       7 non-null      object\n",
      " 2   sales_price  7 non-null      int64 \n",
      "dtypes: int64(1), object(2)\n",
      "memory usage: 296.0+ bytes\n"
     ]
    }
   ],
   "source": [
    "products = pd.read_csv(r\"C:\\Users\\91635\\OneDrive\\GitHub\\CRM\\products.csv\")\n",
    "products.info()\n"
   ]
  },
  {
   "cell_type": "markdown",
   "metadata": {},
   "source": [
    "- What is the average sales price per product series, and how does it compare to the overall average sales price?"
   ]
  },
  {
   "cell_type": "code",
   "execution_count": 8,
   "metadata": {},
   "outputs": [
    {
     "name": "stdout",
     "output_type": "stream",
     "text": [
      "Average sales price per product series:\n",
      "series\n",
      "GTK    26768.00\n",
      "GTX     2987.25\n",
      "MG      1724.00\n",
      "Name: sales_price, dtype: float64\n"
     ]
    }
   ],
   "source": [
    "products = pd.read_csv(r\"C:\\Users\\91635\\OneDrive\\GitHub\\CRM\\products.csv\")\n",
    "\n",
    "avg_price_by_series = products.groupby('series')['sales_price'].mean()\n",
    "print(\"Average sales price per product series:\")\n",
    "print(avg_price_by_series)\n"
   ]
  },
  {
   "cell_type": "code",
   "execution_count": 6,
   "metadata": {},
   "outputs": [
    {
     "name": "stdout",
     "output_type": "stream",
     "text": [
      "\n",
      "Overall average sales price: 6023.571428571428\n"
     ]
    }
   ],
   "source": [
    "overall_avg_price = products['sales_price'].mean()\n",
    "print(f\"\\nOverall average sales price: {overall_avg_price}\")"
   ]
  },
  {
   "cell_type": "code",
   "execution_count": 14,
   "metadata": {},
   "outputs": [
    {
     "name": "stdout",
     "output_type": "stream",
     "text": [
      "\n",
      "Comparison to overall average:\n",
      "The average price for the 'Series X' series is lower than the overall average.\n",
      "The average price for the 'Series Y' series is lower than the overall average.\n",
      "The average price for the 'Series Z' series is higher than the overall average.\n"
     ]
    }
   ],
   "source": [
    "print(\"\\nComparison to overall average:\")\n",
    "for series, avg_price in avg_price_by_series.items():\n",
    "    if avg_price > overall_avg_price:\n",
    "        print(f\"The average price for the '{series}' series is higher than the overall average.\")\n",
    "    elif avg_price < overall_avg_price:\n",
    "        print(f\"The average price for the '{series}' series is lower than the overall average.\")\n",
    "    else:\n",
    "        print(f\"The average price for the '{series}' series is equal to the overall average.\")\n",
    "        "
   ]
  },
  {
   "cell_type": "markdown",
   "metadata": {},
   "source": [
    "- Which product series has the highest and lowest average sales price?"
   ]
  },
  {
   "cell_type": "code",
   "execution_count": 9,
   "metadata": {},
   "outputs": [
    {
     "name": "stdout",
     "output_type": "stream",
     "text": [
      "The series with the highest average sales price is 'Series Z' with an average of 160.0\n",
      "The series with the lowest average sales price is 'Series Y' with an average of 85.0\n"
     ]
    }
   ],
   "source": [
    "# Load the data\n",
    "products = pd.DataFrame({\n",
    "    'product': ['Product A', 'Product B', 'Product C', 'Product D', 'Product E', 'Product F', 'Product G'],\n",
    "    'series': ['Series X', 'Series X', 'Series Y', 'Series Y', 'Series Z', 'Series Z', 'Series Z'],\n",
    "    'sales_price': [100, 120, 80, 90, 150, 160, 170]\n",
    "})\n",
    "\n",
    "# Calculate the average sales price per series\n",
    "avg_price_by_series = products.groupby('series')['sales_price'].mean()\n",
    "\n",
    "# Find the series with the highest and lowest average sales price\n",
    "highest_series = avg_price_by_series.idxmax()\n",
    "lowest_series = avg_price_by_series.idxmin()\n",
    "\n",
    "print(f\"The series with the highest average sales price is '{highest_series}' with an average of {avg_price_by_series[highest_series]}\")\n",
    "print(f\"The series with the lowest average sales price is '{lowest_series}' with an average of {avg_price_by_series[lowest_series]}\")\n"
   ]
  }
 ],
 "metadata": {
  "kernelspec": {
   "display_name": "Python 3",
   "language": "python",
   "name": "python3"
  },
  "language_info": {
   "codemirror_mode": {
    "name": "ipython",
    "version": 3
   },
   "file_extension": ".py",
   "mimetype": "text/x-python",
   "name": "python",
   "nbconvert_exporter": "python",
   "pygments_lexer": "ipython3",
   "version": "3.10.11"
  }
 },
 "nbformat": 4,
 "nbformat_minor": 2
}

