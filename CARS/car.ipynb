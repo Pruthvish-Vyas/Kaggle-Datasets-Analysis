{
 "cells": [
  {
   "cell_type": "code",
   "execution_count": 1,
   "metadata": {},
   "outputs": [],
   "source": [
    "import numpy as np\n",
    "import pandas as pd\n",
    "from sklearn.preprocessing import LabelEncoder, OneHotEncoder\n",
    "from sklearn.model_selection import train_test_split, GridSearchCV\n",
    "from sklearn.ensemble import RandomForestClassifier, GradientBoostingClassifier \n",
    "from sklearn.tree import DecisionTreeClassifier \n",
    "from sklearn.linear_model import LinearRegression\n",
    "from sklearn.metrics import mean_squared_error, classification_report\n",
    "import matplotlib.pyplot as plt\n",
    "import warnings \n",
    "warnings.filterwarnings('ignore')"
   ]
  },
  {
   "cell_type": "code",
   "execution_count": 2,
   "metadata": {},
   "outputs": [
    {
     "name": "stdout",
     "output_type": "stream",
     "text": [
      "<class 'pandas.core.frame.DataFrame'>\n",
      "RangeIndex: 10000 entries, 0 to 9999\n",
      "Data columns (total 6 columns):\n",
      " #   Column           Non-Null Count  Dtype  \n",
      "---  ------           --------------  -----  \n",
      " 0   Make             10000 non-null  object \n",
      " 1   Model            10000 non-null  object \n",
      " 2   Year             10000 non-null  int64  \n",
      " 3   Engine Size (L)  10000 non-null  float64\n",
      " 4   Fuel Type        10000 non-null  object \n",
      " 5   Price (USD)      10000 non-null  float64\n",
      "dtypes: float64(2), int64(1), object(3)\n",
      "memory usage: 468.9+ KB\n"
     ]
    }
   ],
   "source": [
    "df = pd.read_csv(r\"C:\\Users\\Downloads\\cars_2010_2020.csv\")\n",
    "df.info()\n"
   ]
  },
  {
   "cell_type": "code",
   "execution_count": 3,
   "metadata": {},
   "outputs": [
    {
     "data": {
      "text/html": [
       "<div>\n",
       "<style scoped>\n",
       "    .dataframe tbody tr th:only-of-type {\n",
       "        vertical-align: middle;\n",
       "    }\n",
       "\n",
       "    .dataframe tbody tr th {\n",
       "        vertical-align: top;\n",
       "    }\n",
       "\n",
       "    .dataframe thead th {\n",
       "        text-align: right;\n",
       "    }\n",
       "</style>\n",
       "<table border=\"1\" class=\"dataframe\">\n",
       "  <thead>\n",
       "    <tr style=\"text-align: right;\">\n",
       "      <th></th>\n",
       "      <th>Year</th>\n",
       "      <th>Engine Size (L)</th>\n",
       "      <th>Price (USD)</th>\n",
       "    </tr>\n",
       "  </thead>\n",
       "  <tbody>\n",
       "    <tr>\n",
       "      <th>count</th>\n",
       "      <td>10000.000000</td>\n",
       "      <td>10000.000000</td>\n",
       "      <td>10000.000000</td>\n",
       "    </tr>\n",
       "    <tr>\n",
       "      <th>mean</th>\n",
       "      <td>2014.969900</td>\n",
       "      <td>2.992240</td>\n",
       "      <td>47397.584981</td>\n",
       "    </tr>\n",
       "    <tr>\n",
       "      <th>std</th>\n",
       "      <td>3.174303</td>\n",
       "      <td>1.150697</td>\n",
       "      <td>18643.431581</td>\n",
       "    </tr>\n",
       "    <tr>\n",
       "      <th>min</th>\n",
       "      <td>2010.000000</td>\n",
       "      <td>1.000000</td>\n",
       "      <td>15010.250000</td>\n",
       "    </tr>\n",
       "    <tr>\n",
       "      <th>25%</th>\n",
       "      <td>2012.000000</td>\n",
       "      <td>2.000000</td>\n",
       "      <td>31214.385000</td>\n",
       "    </tr>\n",
       "    <tr>\n",
       "      <th>50%</th>\n",
       "      <td>2015.000000</td>\n",
       "      <td>3.000000</td>\n",
       "      <td>47272.105000</td>\n",
       "    </tr>\n",
       "    <tr>\n",
       "      <th>75%</th>\n",
       "      <td>2018.000000</td>\n",
       "      <td>4.000000</td>\n",
       "      <td>63325.882500</td>\n",
       "    </tr>\n",
       "    <tr>\n",
       "      <th>max</th>\n",
       "      <td>2020.000000</td>\n",
       "      <td>5.000000</td>\n",
       "      <td>79998.870000</td>\n",
       "    </tr>\n",
       "  </tbody>\n",
       "</table>\n",
       "</div>"
      ],
      "text/plain": [
       "               Year  Engine Size (L)   Price (USD)\n",
       "count  10000.000000     10000.000000  10000.000000\n",
       "mean    2014.969900         2.992240  47397.584981\n",
       "std        3.174303         1.150697  18643.431581\n",
       "min     2010.000000         1.000000  15010.250000\n",
       "25%     2012.000000         2.000000  31214.385000\n",
       "50%     2015.000000         3.000000  47272.105000\n",
       "75%     2018.000000         4.000000  63325.882500\n",
       "max     2020.000000         5.000000  79998.870000"
      ]
     },
     "execution_count": 3,
     "metadata": {},
     "output_type": "execute_result"
    }
   ],
   "source": [
    "df.describe()"
   ]
  },
  {
   "cell_type": "code",
   "execution_count": 4,
   "metadata": {},
   "outputs": [],
   "source": [
    "object_dtype = df.select_dtypes(include = 'object').columns\n",
    "object_dtype\n",
    "cl = ['Make', 'Model', 'Fuel Type']\n",
    "oe = OneHotEncoder()\n",
    "col = oe.fit_transform(df[cl]).toarray()\n",
    "col_df = pd.DataFrame(col, columns=oe.get_feature_names_out())\n",
    "df = pd.concat([df.drop(cl, axis=1), col_df], axis=1)\n"
   ]
  },
  {
   "cell_type": "code",
   "execution_count": 5,
   "metadata": {},
   "outputs": [
    {
     "name": "stdout",
     "output_type": "stream",
     "text": [
      "<class 'pandas.core.frame.DataFrame'>\n",
      "RangeIndex: 10000 entries, 0 to 9999\n",
      "Data columns (total 67 columns):\n",
      " #   Column              Non-Null Count  Dtype  \n",
      "---  ------              --------------  -----  \n",
      " 0   Year                10000 non-null  int64  \n",
      " 1   Engine Size (L)     10000 non-null  float64\n",
      " 2   Price (USD)         10000 non-null  float64\n",
      " 3   Make_Audi           10000 non-null  float64\n",
      " 4   Make_BMW            10000 non-null  float64\n",
      " 5   Make_Chevrolet      10000 non-null  float64\n",
      " 6   Make_Ford           10000 non-null  float64\n",
      " 7   Make_Honda          10000 non-null  float64\n",
      " 8   Make_Hyundai        10000 non-null  float64\n",
      " 9   Make_Mercedes-Benz  10000 non-null  float64\n",
      " 10  Make_Nissan         10000 non-null  float64\n",
      " 11  Make_Toyota         10000 non-null  float64\n",
      " 12  Make_Volkswagen     10000 non-null  float64\n",
      " 13  Model_3 Series      10000 non-null  float64\n",
      " 14  Model_5 Series      10000 non-null  float64\n",
      " 15  Model_7 Series      10000 non-null  float64\n",
      " 16  Model_A3            10000 non-null  float64\n",
      " 17  Model_A4            10000 non-null  float64\n",
      " 18  Model_A6            10000 non-null  float64\n",
      " 19  Model_Accord        10000 non-null  float64\n",
      " 20  Model_Altima        10000 non-null  float64\n",
      " 21  Model_Atlas         10000 non-null  float64\n",
      " 22  Model_C-Class       10000 non-null  float64\n",
      " 23  Model_CR-V          10000 non-null  float64\n",
      " 24  Model_Camry         10000 non-null  float64\n",
      " 25  Model_Civic         10000 non-null  float64\n",
      " 26  Model_Corolla       10000 non-null  float64\n",
      " 27  Model_E-Class       10000 non-null  float64\n",
      " 28  Model_Elantra       10000 non-null  float64\n",
      " 29  Model_Equinox       10000 non-null  float64\n",
      " 30  Model_Explorer      10000 non-null  float64\n",
      " 31  Model_F-150         10000 non-null  float64\n",
      " 32  Model_Fiesta        10000 non-null  float64\n",
      " 33  Model_Fit           10000 non-null  float64\n",
      " 34  Model_Focus         10000 non-null  float64\n",
      " 35  Model_GLA           10000 non-null  float64\n",
      " 36  Model_GLC           10000 non-null  float64\n",
      " 37  Model_Golf          10000 non-null  float64\n",
      " 38  Model_Highlander    10000 non-null  float64\n",
      " 39  Model_Impala        10000 non-null  float64\n",
      " 40  Model_Jetta         10000 non-null  float64\n",
      " 41  Model_Kona          10000 non-null  float64\n",
      " 42  Model_Malibu        10000 non-null  float64\n",
      " 43  Model_Murano        10000 non-null  float64\n",
      " 44  Model_Mustang       10000 non-null  float64\n",
      " 45  Model_Passat        10000 non-null  float64\n",
      " 46  Model_Pilot         10000 non-null  float64\n",
      " 47  Model_Prius         10000 non-null  float64\n",
      " 48  Model_Q5            10000 non-null  float64\n",
      " 49  Model_Q7            10000 non-null  float64\n",
      " 50  Model_RAV4          10000 non-null  float64\n",
      " 51  Model_Rogue         10000 non-null  float64\n",
      " 52  Model_S-Class       10000 non-null  float64\n",
      " 53  Model_Santa Fe      10000 non-null  float64\n",
      " 54  Model_Sentra        10000 non-null  float64\n",
      " 55  Model_Sonata        10000 non-null  float64\n",
      " 56  Model_Spark         10000 non-null  float64\n",
      " 57  Model_Tahoe         10000 non-null  float64\n",
      " 58  Model_Tiguan        10000 non-null  float64\n",
      " 59  Model_Tucson        10000 non-null  float64\n",
      " 60  Model_Versa         10000 non-null  float64\n",
      " 61  Model_X3            10000 non-null  float64\n",
      " 62  Model_X5            10000 non-null  float64\n",
      " 63  Fuel Type_Diesel    10000 non-null  float64\n",
      " 64  Fuel Type_Electric  10000 non-null  float64\n",
      " 65  Fuel Type_Hybrid    10000 non-null  float64\n",
      " 66  Fuel Type_Petrol    10000 non-null  float64\n",
      "dtypes: float64(66), int64(1)\n",
      "memory usage: 5.1 MB\n"
     ]
    }
   ],
   "source": [
    "df.info()"
   ]
  },
  {
   "cell_type": "code",
   "execution_count": 6,
   "metadata": {},
   "outputs": [],
   "source": [
    "X = df.drop(['Year'], axis=1)\n",
    "y = df['Year']\n",
    "\n",
    "X_train, X_test, y_train, y_test = train_test_split(X, y, test_size=0.2, random_state=42)"
   ]
  },
  {
   "cell_type": "code",
   "execution_count": 7,
   "metadata": {},
   "outputs": [
    {
     "name": "stdout",
     "output_type": "stream",
     "text": [
      "RMSE: 3.2101337513085357\n"
     ]
    }
   ],
   "source": [
    "model = LinearRegression()\n",
    "model.fit(X_train, y_train)\n",
    "y_pred = model.predict(X_test)\n",
    "print('RMSE:', np.sqrt(mean_squared_error(y_pred, y_test)))"
   ]
  }
 ],
 "metadata": {
  "kernelspec": {
   "display_name": "Python 3",
   "language": "python",
   "name": "python3"
  },
  "language_info": {
   "codemirror_mode": {
    "name": "ipython",
    "version": 3
   },
   "file_extension": ".py",
   "mimetype": "text/x-python",
   "name": "python",
   "nbconvert_exporter": "python",
   "pygments_lexer": "ipython3",
   "version": "3.10.11"
  }
 },
 "nbformat": 4,
 "nbformat_minor": 2
}
